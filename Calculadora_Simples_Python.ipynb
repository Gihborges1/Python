{
  "nbformat": 4,
  "nbformat_minor": 0,
  "metadata": {
    "colab": {
      "provenance": []
    },
    "kernelspec": {
      "name": "python3",
      "display_name": "Python 3"
    },
    "language_info": {
      "name": "python"
    }
  },
  "cells": [
    {
      "cell_type": "markdown",
      "source": [
        "# Calculadora Simples - Python\n",
        "Utilize o comando 'input' para receber ao menos 2 números de entrada do usuário\n",
        "\n"
      ],
      "metadata": {
        "id": "8KckbVs19STJ"
      }
    },
    {
      "cell_type": "code",
      "execution_count": 1,
      "metadata": {
        "colab": {
          "base_uri": "https://localhost:8080/"
        },
        "id": "fyKSQWsT8--y",
        "outputId": "10e78dcd-f04e-4247-81ad-11f1297faa7b"
      },
      "outputs": [
        {
          "name": "stdout",
          "output_type": "stream",
          "text": [
            "Digite o primeiro numero: 5\n",
            "Digite o segundo numero: 9\n"
          ]
        }
      ],
      "source": [
        "num1 = input(\"Digite o primeiro numero: \")\n",
        "num2 = input(\"Digite o segundo numero: \")"
      ]
    },
    {
      "cell_type": "code",
      "source": [
        "num1_convertido = int(num1)\n",
        "num2_convertido = int(num2)"
      ],
      "metadata": {
        "id": "YgTP1gh3_GTM"
      },
      "execution_count": 2,
      "outputs": []
    },
    {
      "cell_type": "code",
      "source": [
        "print(\"\\nEscolha a operação:\")\n",
        "print(\"1 - Soma (+)\")\n",
        "print(\"2 - Subtração (-)\")\n",
        "print(\"3 - Multiplicação (*)\")\n",
        "print(\"4 - Divisão (/)\")\n",
        "\n",
        "operacao = input(\"Digite o número da operação desejada: \")"
      ],
      "metadata": {
        "colab": {
          "base_uri": "https://localhost:8080/"
        },
        "id": "CVznE320_bJ5",
        "outputId": "cb2021de-0b44-4c8e-b25f-da95b70b8723"
      },
      "execution_count": 5,
      "outputs": [
        {
          "name": "stdout",
          "output_type": "stream",
          "text": [
            "\n",
            "Escolha a operação:\n",
            "1 - Soma (+)\n",
            "2 - Subtração (-)\n",
            "3 - Multiplicação (*)\n",
            "4 - Divisão (/)\n",
            "Digite o número da operação desejada: 1\n"
          ]
        }
      ]
    },
    {
      "cell_type": "code",
      "source": [
        "if operacao == '1':\n",
        "    resultado = num1_convertido + num2_convertido\n",
        "    print(f\"\\nResultado: {resultado}\")\n",
        "\n",
        "elif operacao == '2':\n",
        "    resultado = num1_convertido - num2_convertido\n",
        "    print(f\"\\nResultado: {resultado}\")\n",
        "\n",
        "elif operacao == '3':\n",
        "    resultado = num1_convertido * num2_convertido\n",
        "    print(f\"\\nResultado: {resultado}\")\n",
        "\n",
        "elif operacao == '4':\n",
        "    resultado = num1_convertido / num2_convertido\n",
        "\n",
        "else:\n",
        "  print(\"Operação invalida\")"
      ],
      "metadata": {
        "colab": {
          "base_uri": "https://localhost:8080/"
        },
        "id": "_7L3A-HK_j_v",
        "outputId": "c7f8ff5f-6cf9-4f0b-d1cd-b8ac80e1d7d5"
      },
      "execution_count": 6,
      "outputs": [
        {
          "output_type": "stream",
          "name": "stdout",
          "text": [
            "\n",
            "Resultado: 14\n"
          ]
        }
      ]
    }
  ]
}